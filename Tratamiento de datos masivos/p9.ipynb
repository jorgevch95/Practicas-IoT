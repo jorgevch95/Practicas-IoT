{
 "cells": [
  {
   "cell_type": "markdown",
   "metadata": {},
   "source": [
    "# Práctica 9\n",
    "\n",
    "### TDM - Máster en IoT - Rafael Caballero\n",
    "\n",
    "En una compañía que se dedican al transporte de vino de alta calidad están preocupados porque en ocasiones algunos operarios voltean las cajas, lo que afecta a la calidad del producto.\n",
    "\n",
    "<div>\n",
    "<img src=\"https://raw.githubusercontent.com/RafaelCaballero/tdm/master/images/12-bottle-wooden-wine-box-2-1500x1500.jpg\" width=\"100\"/>\n",
    "</div>\n",
    "\n",
    "Por ello deciden instalar en la tapa de algunas cajas unos sensores que indican la orientación x,y,z, así como la luz (l), la temperatura (t) y la  humedad (h). Se han hecho experimentos en las naves de carga, apuntando los datos de los sensores en diversas posiciones. En el conjunto de datos esto corresponde con la columna *label*.  Así, label=1 indica que la caja está correcta, label=2 que está invertida, y los valores 3,4,5 son distintas variantes de caja puesta por el lateral. \n",
    "\n",
    "Vamos a utilizar Spark para decidir en qué condiciones debe saltar una alarma indicando en cuál de las 5 posiciones está la caja.\n",
    "\n",
    "\n",
    "Como siempre, empezamos cargando las librerías, Spark y el conjunto inicial de datos."
   ]
  },
  {
   "cell_type": "code",
   "execution_count": 5,
   "metadata": {},
   "outputs": [
    {
     "name": "stdout",
     "output_type": "stream",
     "text": [
      "Spark está en el sistema!\n",
      "Pyspark encontrado\n",
      "KElbowVisualizer encontrado\n"
     ]
    }
   ],
   "source": [
    "import sys\n",
    "# comprobar la librería\n",
    "try:\n",
    "    import findspark\n",
    "    print(\"Spark está en el sistema!\")\n",
    "except ImportError as e:\n",
    "    !{sys.executable} -m pip install --upgrade --user findspark\n",
    "    \n",
    "\n",
    "try:\n",
    "    import pyspark\n",
    "    print(\"Pyspark encontrado\")\n",
    "except ImportError as e:\n",
    "    !{sys.executable} -m pip install --upgrade --user pyspark\n",
    "\n",
    "try:\n",
    "    import yellowbrick\n",
    "    print(\"KElbowVisualizer encontrado\")\n",
    "except ImportError as e:\n",
    "    !{sys.executable} -m pip install --upgrade --user yellowbrick\n",
    "    \n",
    "    "
   ]
  },
  {
   "cell_type": "markdown",
   "metadata": {},
   "source": [
    "Este es el código con los paths, en el laboratorio se puede saltar y en algunos casos habrá que cambiarlo"
   ]
  },
  {
   "cell_type": "code",
   "execution_count": 6,
   "metadata": {},
   "outputs": [
    {
     "name": "stdout",
     "output_type": "stream",
     "text": [
      "Hecho\n"
     ]
    }
   ],
   "source": [
    "\n",
    "# descargar la carpeta copiar la carpeta spark en c:\\hlocal\\tdm\n",
    "import os\n",
    "# cambiamos las variables del sistema\n",
    "spark = 'C:/hlocal/tdm/spark/spark-3.0.1-bin-hadoop3.2/spark-3.0.1-bin-hadoop3.2'\n",
    "\n",
    "if not(os.path.isdir(spark+\"/bin\")) or not(os.path.isdir(spark+\"/jars\")) :\n",
    "    print(\"Error, la carpeta en 'spark' debe contener los directorios bin y jars \")\n",
    "else:    \n",
    "    # en el path se añade\n",
    "    #path = os.environ.get('PATH') \n",
    "    #path = path+ ';'+spark+'\\\\bin;'\n",
    "    #os.environ['PATH'] = path\n",
    "    os.environ['SPARK_HOME']= spark \n",
    "    os.environ['HADOOP_HOME']= spark \n",
    "    os.environ['PYSPARK_DRIVER_PYTHON']= 'jupyter'\n",
    "    os.environ['PYSPARK_DRIVER_PYTHON_OPTS']='notebook'\n",
    "\n",
    "    # si da problema quizás haya que poner java_home a la localización de java 8\n",
    "    #os.environ['JAVA_HOME']= 'C:\\\\Program Files\\\\Java\\\\jdk1.8.0_151'\n",
    "    #os.environ['PATH'] = os.environ.get('JAVA_HOME')+'\\\\bin;'+spark\n",
    "    print(\"Hecho\")"
   ]
  },
  {
   "cell_type": "code",
   "execution_count": 7,
   "metadata": {},
   "outputs": [
    {
     "name": "stdout",
     "output_type": "stream",
     "text": [
      "Preparado!!\n"
     ]
    }
   ],
   "source": [
    "  \n",
    "import findspark\n",
    "findspark.init()\n",
    "\n",
    "import pyspark # only run after findspark.init()\n",
    "from pyspark.sql import SparkSession\n",
    "spark = SparkSession.builder.getOrCreate()\n",
    "sc = spark.sparkContext\n",
    "print(\"Preparado!!\")"
   ]
  },
  {
   "cell_type": "code",
   "execution_count": 8,
   "metadata": {},
   "outputs": [
    {
     "name": "stdout",
     "output_type": "stream",
     "text": [
      "Número de filas: 1875\n"
     ]
    },
    {
     "data": {
      "text/html": [
       "<div>\n",
       "<style scoped>\n",
       "    .dataframe tbody tr th:only-of-type {\n",
       "        vertical-align: middle;\n",
       "    }\n",
       "\n",
       "    .dataframe tbody tr th {\n",
       "        vertical-align: top;\n",
       "    }\n",
       "\n",
       "    .dataframe thead th {\n",
       "        text-align: right;\n",
       "    }\n",
       "</style>\n",
       "<table border=\"1\" class=\"dataframe\">\n",
       "  <thead>\n",
       "    <tr style=\"text-align: right;\">\n",
       "      <th></th>\n",
       "      <th>x</th>\n",
       "      <th>y</th>\n",
       "      <th>z</th>\n",
       "      <th>l</th>\n",
       "      <th>t</th>\n",
       "      <th>h</th>\n",
       "      <th>label</th>\n",
       "    </tr>\n",
       "  </thead>\n",
       "  <tbody>\n",
       "    <tr>\n",
       "      <th>0</th>\n",
       "      <td>1.00</td>\n",
       "      <td>0.01</td>\n",
       "      <td>-1.39</td>\n",
       "      <td>648.0</td>\n",
       "      <td>23.50</td>\n",
       "      <td>48.0</td>\n",
       "      <td>5</td>\n",
       "    </tr>\n",
       "    <tr>\n",
       "      <th>1</th>\n",
       "      <td>1.00</td>\n",
       "      <td>0.04</td>\n",
       "      <td>-1.36</td>\n",
       "      <td>632.0</td>\n",
       "      <td>23.45</td>\n",
       "      <td>47.0</td>\n",
       "      <td>5</td>\n",
       "    </tr>\n",
       "    <tr>\n",
       "      <th>2</th>\n",
       "      <td>0.00</td>\n",
       "      <td>0.04</td>\n",
       "      <td>-2.04</td>\n",
       "      <td>73.0</td>\n",
       "      <td>20.90</td>\n",
       "      <td>26.0</td>\n",
       "      <td>2</td>\n",
       "    </tr>\n",
       "    <tr>\n",
       "      <th>3</th>\n",
       "      <td>1.00</td>\n",
       "      <td>0.01</td>\n",
       "      <td>-1.31</td>\n",
       "      <td>640.0</td>\n",
       "      <td>23.40</td>\n",
       "      <td>48.0</td>\n",
       "      <td>5</td>\n",
       "    </tr>\n",
       "    <tr>\n",
       "      <th>4</th>\n",
       "      <td>1.02</td>\n",
       "      <td>-0.00</td>\n",
       "      <td>-1.38</td>\n",
       "      <td>639.5</td>\n",
       "      <td>23.50</td>\n",
       "      <td>48.0</td>\n",
       "      <td>5</td>\n",
       "    </tr>\n",
       "    <tr>\n",
       "      <th>...</th>\n",
       "      <td>...</td>\n",
       "      <td>...</td>\n",
       "      <td>...</td>\n",
       "      <td>...</td>\n",
       "      <td>...</td>\n",
       "      <td>...</td>\n",
       "      <td>...</td>\n",
       "    </tr>\n",
       "    <tr>\n",
       "      <th>1870</th>\n",
       "      <td>0.02</td>\n",
       "      <td>-0.01</td>\n",
       "      <td>-2.02</td>\n",
       "      <td>76.5</td>\n",
       "      <td>23.90</td>\n",
       "      <td>46.0</td>\n",
       "      <td>2</td>\n",
       "    </tr>\n",
       "    <tr>\n",
       "      <th>1871</th>\n",
       "      <td>1.02</td>\n",
       "      <td>0.04</td>\n",
       "      <td>-0.86</td>\n",
       "      <td>743.0</td>\n",
       "      <td>18.60</td>\n",
       "      <td>26.0</td>\n",
       "      <td>5</td>\n",
       "    </tr>\n",
       "    <tr>\n",
       "      <th>1872</th>\n",
       "      <td>1.00</td>\n",
       "      <td>0.04</td>\n",
       "      <td>-1.36</td>\n",
       "      <td>629.0</td>\n",
       "      <td>23.40</td>\n",
       "      <td>48.0</td>\n",
       "      <td>5</td>\n",
       "    </tr>\n",
       "    <tr>\n",
       "      <th>1873</th>\n",
       "      <td>1.02</td>\n",
       "      <td>-0.05</td>\n",
       "      <td>-0.98</td>\n",
       "      <td>69.0</td>\n",
       "      <td>24.60</td>\n",
       "      <td>43.0</td>\n",
       "      <td>3</td>\n",
       "    </tr>\n",
       "    <tr>\n",
       "      <th>1874</th>\n",
       "      <td>1.03</td>\n",
       "      <td>-0.00</td>\n",
       "      <td>-1.10</td>\n",
       "      <td>69.0</td>\n",
       "      <td>24.50</td>\n",
       "      <td>44.0</td>\n",
       "      <td>3</td>\n",
       "    </tr>\n",
       "  </tbody>\n",
       "</table>\n",
       "<p>1875 rows × 7 columns</p>\n",
       "</div>"
      ],
      "text/plain": [
       "         x     y     z      l      t     h  label\n",
       "0     1.00  0.01 -1.39  648.0  23.50  48.0      5\n",
       "1     1.00  0.04 -1.36  632.0  23.45  47.0      5\n",
       "2     0.00  0.04 -2.04   73.0  20.90  26.0      2\n",
       "3     1.00  0.01 -1.31  640.0  23.40  48.0      5\n",
       "4     1.02 -0.00 -1.38  639.5  23.50  48.0      5\n",
       "...    ...   ...   ...    ...    ...   ...    ...\n",
       "1870  0.02 -0.01 -2.02   76.5  23.90  46.0      2\n",
       "1871  1.02  0.04 -0.86  743.0  18.60  26.0      5\n",
       "1872  1.00  0.04 -1.36  629.0  23.40  48.0      5\n",
       "1873  1.02 -0.05 -0.98   69.0  24.60  43.0      3\n",
       "1874  1.03 -0.00 -1.10   69.0  24.50  44.0      3\n",
       "\n",
       "[1875 rows x 7 columns]"
      ]
     },
     "execution_count": 8,
     "metadata": {},
     "output_type": "execute_result"
    }
   ],
   "source": [
    "# cargamos los datos\n",
    "import pandas as pd\n",
    "import warnings\n",
    "warnings.filterwarnings(\"ignore\")\n",
    "\n",
    "path = \"https://raw.githubusercontent.com/RafaelCaballero/tdm/master/datos/datoscajas.csv\"\n",
    "\n",
    "df = spark.createDataFrame(pd.read_csv(path))\n",
    "print(\"Número de filas:\", df.count())\n",
    "dfp = df.toPandas()\n",
    "dfp"
   ]
  },
  {
   "cell_type": "markdown",
   "metadata": {},
   "source": [
    "\n",
    "\n",
    "\n",
    "\n",
    "Aunque en principio se pensó en un sistema de clasificación supervisada para detectar la posición de la caja, se ha considerado que almacenar ese sistema junto con los sensores es demasiado caro. Se ha decidido probar con un sistema de clustering que determine los valores \"centrales\" de cada etiqueta, de forma que sea fácil de comprobar qué centro es el más cercano a los valores que transmiten los sensores y así determinar la posición.\n",
    "\n"
   ]
  },
  {
   "cell_type": "markdown",
   "metadata": {},
   "source": [
    "Los valores de las columnas x,y,z,  parece que distribuyen bastante bien las etiquetas, salvo por los casos label==3 y label==5"
   ]
  },
  {
   "cell_type": "code",
   "execution_count": 9,
   "metadata": {},
   "outputs": [
    {
     "data": {
      "image/png": "[encoded data removed]",
      "text/plain": [
       "<Figure size 1008x432 with 1 Axes>"
      ]
     },
     "metadata": {
      "needs_background": "light"
     },
     "output_type": "display_data"
    }
   ],
   "source": [
    "%matplotlib inline\n",
    "\n",
    "import matplotlib\n",
    "import matplotlib.pyplot as plt\n",
    "import numpy as np\n",
    "from mpl_toolkits.mplot3d.axes3d import Axes3D\n",
    "\n",
    "fig = plt.figure(figsize=(14,6))\n",
    "ax = fig.gca(projection='3d')\n",
    "ax.view_init(35, 60) # rotamos la figura\n",
    "p = ax.scatter(dfp[dfp.label==1].x, dfp[dfp.label==1].y, dfp[dfp.label==1].z,color=\"blue\")\n",
    "p = ax.scatter(dfp[dfp.label==2].x, dfp[dfp.label==2].y, dfp[dfp.label==2].z,color=\"red\")\n",
    "p = ax.scatter(dfp[dfp.label==3].x, dfp[dfp.label==3].y, dfp[dfp.label==3].z,color=\"brown\")\n",
    "p = ax.scatter(dfp[dfp.label==4].x, dfp[dfp.label==4].y, dfp[dfp.label==4].z,color=\"yellow\")\n",
    "p = ax.scatter(dfp[dfp.label==5].x, dfp[dfp.label==5].y, dfp[dfp.label==5].z,color=\"cyan\")\n",
    "plt.show()\n"
   ]
  },
  {
   "cell_type": "markdown",
   "metadata": {},
   "source": [
    "### Pregunta 1 [1 punto]\n",
    "\n",
    "Lo primero, habría que elegir el k óptimo, así como las columnas que se quieren utilizar. Probar a modificar el array *feat_cols* del siguiente código, jugando con las columnas x,y,z,l,t,h buscando elegir un conjunto de columnas que: \n",
    "\n",
    "- Incluya al menos \"x\",\"y\",\"z\"\n",
    "- Si puede ser se alcance k=5\n",
    "- El codo quede lo más marcado posible\n",
    "\n",
    "Nota 1: en este caso lo hacemos a ojo, probando distintos subconjuntos de atributos con el método del codo, hasta obtener el mayor k\n",
    "\n",
    "Nota 2: No tocar el resto de código, solo feat_cols\n",
    "\n",
    "Nota 3: se puede usar algún escalador si ayuda, pero no es obligatorio"
   ]
  },
  {
   "cell_type": "code",
   "execution_count": 62,
   "metadata": {},
   "outputs": [
    {
     "data": {
      "image/png": "[encoded data removed]",
      "text/plain": [
       "<Figure size 432x288 with 2 Axes>"
      ]
     },
     "metadata": {},
     "output_type": "display_data"
    },
    {
     "data": {
      "text/plain": [
       "<matplotlib.axes._subplots.AxesSubplot at 0x1a0c06fcee0>"
      ]
     },
     "execution_count": 62,
     "metadata": {},
     "output_type": "execute_result"
    }
   ],
   "source": [
    "from sklearn.cluster import KMeans\n",
    "from yellowbrick.cluster import KElbowVisualizer\n",
    "from sklearn.preprocessing import StandardScaler\n",
    "\n",
    "##### aquí es dónde hay que tocar\n",
    "feat_cols = [\"x\",\"y\",\"z\",\"l\"]  # probar a añadir uno o varios de entre l,t,h para lograr k=5 y codo muy marcado\n",
    "#####\n",
    "df2 = df.select(feat_cols).toPandas()\n",
    "\n",
    "# Instantiate the clustering model and visualizer\n",
    "model = KMeans()\n",
    "visualizer = KElbowVisualizer(model, k=(2,12))\n",
    "\n",
    "visualizer.fit(StandardScaler().fit_transform(df2[feat_cols]))      # Fit the data to the visualizer\n",
    "visualizer.show()"
   ]
  },
  {
   "cell_type": "markdown",
   "metadata": {},
   "source": [
    "### Pregunta 2 [3 puntos]\n",
    "Escribir el código en Spark para formar estos clusters con estos features; el resultado final tiene que llamarse *kpredictions* y el modelo *kmodel*. Debe utilizarse un StandardScaler y el método KMeans aplicado a las columnas escaladas.\n",
    "\n",
    "Se valorará hacerlo con un pipeline"
   ]
  },
  {
   "cell_type": "code",
   "execution_count": 71,
   "metadata": {},
   "outputs": [],
   "source": [
    "from pyspark.ml import Pipeline\n",
    "from pyspark.ml.feature import VectorAssembler\n",
    "from pyspark.ml.feature import StandardScaler\n",
    "from pyspark.ml.clustering import KMeans  \n",
    "\n",
    "\n",
    "    \n",
    "## K-means \n",
    "# creamos el vector \"features\"\n",
    "#feat_cols = []\n",
    "feat_cols = [\"x\",\"y\",\"z\",\"l\"]\n",
    "assembler = VectorAssembler(\n",
    "    inputCols=feat_cols,\n",
    "    outputCol=\"features\",\n",
    "    handleInvalid='skip')\n",
    "scaler = StandardScaler(inputCol=\"features\", outputCol=\"scaledFeatures\",\n",
    "                        withStd=True, withMean=False)\n",
    "kmeans = KMeans().setK(5).setSeed(1).setFeaturesCol(\"scaledFeatures\")\n",
    "\n",
    "pipeline = Pipeline(stages=[assembler, scaler, kmeans])\n",
    "\n",
    "kmodel = pipeline.fit(df)\n",
    "kpredictions = kmodel.transform(df)\n"
   ]
  },
  {
   "cell_type": "code",
   "execution_count": 72,
   "metadata": {
    "scrolled": true
   },
   "outputs": [
    {
     "data": {
      "text/html": [
       "<div>\n",
       "<style scoped>\n",
       "    .dataframe tbody tr th:only-of-type {\n",
       "        vertical-align: middle;\n",
       "    }\n",
       "\n",
       "    .dataframe tbody tr th {\n",
       "        vertical-align: top;\n",
       "    }\n",
       "\n",
       "    .dataframe thead th {\n",
       "        text-align: right;\n",
       "    }\n",
       "</style>\n",
       "<table border=\"1\" class=\"dataframe\">\n",
       "  <thead>\n",
       "    <tr style=\"text-align: right;\">\n",
       "      <th></th>\n",
       "      <th>x</th>\n",
       "      <th>y</th>\n",
       "      <th>z</th>\n",
       "      <th>l</th>\n",
       "      <th>t</th>\n",
       "      <th>h</th>\n",
       "      <th>label</th>\n",
       "      <th>features</th>\n",
       "      <th>scaledFeatures</th>\n",
       "      <th>prediction</th>\n",
       "    </tr>\n",
       "  </thead>\n",
       "  <tbody>\n",
       "    <tr>\n",
       "      <th>0</th>\n",
       "      <td>1.00</td>\n",
       "      <td>0.01</td>\n",
       "      <td>-1.39</td>\n",
       "      <td>648.0</td>\n",
       "      <td>23.50</td>\n",
       "      <td>48.0</td>\n",
       "      <td>5</td>\n",
       "      <td>[1.0, 0.01, -1.39, 648.0]</td>\n",
       "      <td>[2.0218386699334783, 0.02522970314473798, -2.1...</td>\n",
       "      <td>4</td>\n",
       "    </tr>\n",
       "    <tr>\n",
       "      <th>1</th>\n",
       "      <td>1.00</td>\n",
       "      <td>0.04</td>\n",
       "      <td>-1.36</td>\n",
       "      <td>632.0</td>\n",
       "      <td>23.45</td>\n",
       "      <td>47.0</td>\n",
       "      <td>5</td>\n",
       "      <td>[1.0, 0.04, -1.36, 632.0]</td>\n",
       "      <td>[2.0218386699334783, 0.10091881257895192, -2.0...</td>\n",
       "      <td>4</td>\n",
       "    </tr>\n",
       "    <tr>\n",
       "      <th>2</th>\n",
       "      <td>0.00</td>\n",
       "      <td>0.04</td>\n",
       "      <td>-2.04</td>\n",
       "      <td>73.0</td>\n",
       "      <td>20.90</td>\n",
       "      <td>26.0</td>\n",
       "      <td>2</td>\n",
       "      <td>[0.0, 0.04, -2.04, 73.0]</td>\n",
       "      <td>[0.0, 0.10091881257895192, -3.108529018619658,...</td>\n",
       "      <td>0</td>\n",
       "    </tr>\n",
       "    <tr>\n",
       "      <th>3</th>\n",
       "      <td>1.00</td>\n",
       "      <td>0.01</td>\n",
       "      <td>-1.31</td>\n",
       "      <td>640.0</td>\n",
       "      <td>23.40</td>\n",
       "      <td>48.0</td>\n",
       "      <td>5</td>\n",
       "      <td>[1.0, 0.01, -1.31, 640.0]</td>\n",
       "      <td>[2.0218386699334783, 0.02522970314473798, -1.9...</td>\n",
       "      <td>4</td>\n",
       "    </tr>\n",
       "    <tr>\n",
       "      <th>4</th>\n",
       "      <td>1.02</td>\n",
       "      <td>-0.00</td>\n",
       "      <td>-1.38</td>\n",
       "      <td>639.5</td>\n",
       "      <td>23.50</td>\n",
       "      <td>48.0</td>\n",
       "      <td>5</td>\n",
       "      <td>[1.02, 0.0, -1.38, 639.5]</td>\n",
       "      <td>[2.062275443332148, 0.0, -2.1028284537721214, ...</td>\n",
       "      <td>4</td>\n",
       "    </tr>\n",
       "    <tr>\n",
       "      <th>...</th>\n",
       "      <td>...</td>\n",
       "      <td>...</td>\n",
       "      <td>...</td>\n",
       "      <td>...</td>\n",
       "      <td>...</td>\n",
       "      <td>...</td>\n",
       "      <td>...</td>\n",
       "      <td>...</td>\n",
       "      <td>...</td>\n",
       "      <td>...</td>\n",
       "    </tr>\n",
       "    <tr>\n",
       "      <th>1870</th>\n",
       "      <td>0.02</td>\n",
       "      <td>-0.01</td>\n",
       "      <td>-2.02</td>\n",
       "      <td>76.5</td>\n",
       "      <td>23.90</td>\n",
       "      <td>46.0</td>\n",
       "      <td>2</td>\n",
       "      <td>[0.02, -0.01, -2.02, 76.5]</td>\n",
       "      <td>[0.040436773398669565, -0.02522970314473798, -...</td>\n",
       "      <td>0</td>\n",
       "    </tr>\n",
       "    <tr>\n",
       "      <th>1871</th>\n",
       "      <td>1.02</td>\n",
       "      <td>0.04</td>\n",
       "      <td>-0.86</td>\n",
       "      <td>743.0</td>\n",
       "      <td>18.60</td>\n",
       "      <td>26.0</td>\n",
       "      <td>5</td>\n",
       "      <td>[1.02, 0.04, -0.86, 743.0]</td>\n",
       "      <td>[2.062275443332148, 0.10091881257895192, -1.31...</td>\n",
       "      <td>4</td>\n",
       "    </tr>\n",
       "    <tr>\n",
       "      <th>1872</th>\n",
       "      <td>1.00</td>\n",
       "      <td>0.04</td>\n",
       "      <td>-1.36</td>\n",
       "      <td>629.0</td>\n",
       "      <td>23.40</td>\n",
       "      <td>48.0</td>\n",
       "      <td>5</td>\n",
       "      <td>[1.0, 0.04, -1.36, 629.0]</td>\n",
       "      <td>[2.0218386699334783, 0.10091881257895192, -2.0...</td>\n",
       "      <td>4</td>\n",
       "    </tr>\n",
       "    <tr>\n",
       "      <th>1873</th>\n",
       "      <td>1.02</td>\n",
       "      <td>-0.05</td>\n",
       "      <td>-0.98</td>\n",
       "      <td>69.0</td>\n",
       "      <td>24.60</td>\n",
       "      <td>43.0</td>\n",
       "      <td>3</td>\n",
       "      <td>[1.02, -0.05, -0.98, 69.0]</td>\n",
       "      <td>[2.062275443332148, -0.1261485157236899, -1.49...</td>\n",
       "      <td>3</td>\n",
       "    </tr>\n",
       "    <tr>\n",
       "      <th>1874</th>\n",
       "      <td>1.03</td>\n",
       "      <td>-0.00</td>\n",
       "      <td>-1.10</td>\n",
       "      <td>69.0</td>\n",
       "      <td>24.50</td>\n",
       "      <td>44.0</td>\n",
       "      <td>3</td>\n",
       "      <td>[1.03, 0.0, -1.1, 69.0]</td>\n",
       "      <td>[2.0824938300314826, 0.0, -1.6761676080792276,...</td>\n",
       "      <td>3</td>\n",
       "    </tr>\n",
       "  </tbody>\n",
       "</table>\n",
       "<p>1875 rows × 10 columns</p>\n",
       "</div>"
      ],
      "text/plain": [
       "         x     y     z      l      t     h  label                    features  \\\n",
       "0     1.00  0.01 -1.39  648.0  23.50  48.0      5   [1.0, 0.01, -1.39, 648.0]   \n",
       "1     1.00  0.04 -1.36  632.0  23.45  47.0      5   [1.0, 0.04, -1.36, 632.0]   \n",
       "2     0.00  0.04 -2.04   73.0  20.90  26.0      2    [0.0, 0.04, -2.04, 73.0]   \n",
       "3     1.00  0.01 -1.31  640.0  23.40  48.0      5   [1.0, 0.01, -1.31, 640.0]   \n",
       "4     1.02 -0.00 -1.38  639.5  23.50  48.0      5   [1.02, 0.0, -1.38, 639.5]   \n",
       "...    ...   ...   ...    ...    ...   ...    ...                         ...   \n",
       "1870  0.02 -0.01 -2.02   76.5  23.90  46.0      2  [0.02, -0.01, -2.02, 76.5]   \n",
       "1871  1.02  0.04 -0.86  743.0  18.60  26.0      5  [1.02, 0.04, -0.86, 743.0]   \n",
       "1872  1.00  0.04 -1.36  629.0  23.40  48.0      5   [1.0, 0.04, -1.36, 629.0]   \n",
       "1873  1.02 -0.05 -0.98   69.0  24.60  43.0      3  [1.02, -0.05, -0.98, 69.0]   \n",
       "1874  1.03 -0.00 -1.10   69.0  24.50  44.0      3     [1.03, 0.0, -1.1, 69.0]   \n",
       "\n",
       "                                         scaledFeatures  prediction  \n",
       "0     [2.0218386699334783, 0.02522970314473798, -2.1...           4  \n",
       "1     [2.0218386699334783, 0.10091881257895192, -2.0...           4  \n",
       "2     [0.0, 0.10091881257895192, -3.108529018619658,...           0  \n",
       "3     [2.0218386699334783, 0.02522970314473798, -1.9...           4  \n",
       "4     [2.062275443332148, 0.0, -2.1028284537721214, ...           4  \n",
       "...                                                 ...         ...  \n",
       "1870  [0.040436773398669565, -0.02522970314473798, -...           0  \n",
       "1871  [2.062275443332148, 0.10091881257895192, -1.31...           4  \n",
       "1872  [2.0218386699334783, 0.10091881257895192, -2.0...           4  \n",
       "1873  [2.062275443332148, -0.1261485157236899, -1.49...           3  \n",
       "1874  [2.0824938300314826, 0.0, -1.6761676080792276,...           3  \n",
       "\n",
       "[1875 rows x 10 columns]"
      ]
     },
     "execution_count": 72,
     "metadata": {},
     "output_type": "execute_result"
    }
   ],
   "source": [
    "kpredictions.toPandas()"
   ]
  },
  {
   "cell_type": "markdown",
   "metadata": {},
   "source": [
    "### Pregunta 3 [2 puntos]\n",
    "\n",
    "Las clases predichas van de 0 a 4 inclusive. Podemos ver cuántos elementos se han predicho de cada clase con el siguiente código:"
   ]
  },
  {
   "cell_type": "code",
   "execution_count": 73,
   "metadata": {},
   "outputs": [
    {
     "name": "stdout",
     "output_type": "stream",
     "text": [
      "Clase predicha 0  elementos:  375\n",
      "Clase predicha 1  elementos:  375\n",
      "Clase predicha 2  elementos:  374\n",
      "Clase predicha 3  elementos:  376\n",
      "Clase predicha 4  elementos:  375\n"
     ]
    }
   ],
   "source": [
    "for j in range(5):\n",
    "    dfj = kpredictions.filter(kpredictions.prediction==j)\n",
    "    nj = dfj.count()\n",
    "    print(\"Clase predicha\",j,\" elementos: \",nj)"
   ]
  },
  {
   "cell_type": "markdown",
   "metadata": {},
   "source": [
    "Vamos a medir lo bueno son estas predicciones para obtener cada label. Para ello debemos decidir a qué label hacemos corresponder cada prediction. \n",
    "\n",
    "Tomando como referencia el código anterior, completar el siguiente que muestra, para cada label, cúantos elementos de ese label quedan recogidos por cada clase predicha\n"
   ]
  },
  {
   "cell_type": "code",
   "execution_count": 74,
   "metadata": {},
   "outputs": [
    {
     "name": "stdout",
     "output_type": "stream",
     "text": [
      "label= 1  Elementos  375\n",
      " Predicción  0   0 ( 0.0 %)\n",
      " Predicción  1   375 ( 100.0 %)\n",
      " Predicción  2   0 ( 0.0 %)\n",
      " Predicción  3   0 ( 0.0 %)\n",
      " Predicción  4   0 ( 0.0 %)\n",
      "label= 2  Elementos  375\n",
      " Predicción  0   375 ( 100.0 %)\n",
      " Predicción  1   0 ( 0.0 %)\n",
      " Predicción  2   0 ( 0.0 %)\n",
      " Predicción  3   0 ( 0.0 %)\n",
      " Predicción  4   0 ( 0.0 %)\n",
      "label= 3  Elementos  376\n",
      " Predicción  0   0 ( 0.0 %)\n",
      " Predicción  1   0 ( 0.0 %)\n",
      " Predicción  2   0 ( 0.0 %)\n",
      " Predicción  3   376 ( 100.0 %)\n",
      " Predicción  4   0 ( 0.0 %)\n",
      "label= 4  Elementos  374\n",
      " Predicción  0   0 ( 0.0 %)\n",
      " Predicción  1   0 ( 0.0 %)\n",
      " Predicción  2   374 ( 100.0 %)\n",
      " Predicción  3   0 ( 0.0 %)\n",
      " Predicción  4   0 ( 0.0 %)\n",
      "label= 5  Elementos  375\n",
      " Predicción  0   0 ( 0.0 %)\n",
      " Predicción  1   0 ( 0.0 %)\n",
      " Predicción  2   0 ( 0.0 %)\n",
      " Predicción  3   0 ( 0.0 %)\n",
      " Predicción  4   375 ( 100.0 %)\n"
     ]
    }
   ],
   "source": [
    "# para cada etiqueta\n",
    "for i in range(1,6):\n",
    "    # dfi = filtrar kpredictions para quedarse con los elementos con label i\n",
    "    dfi = kpredictions.filter(kpredictions.label==i)\n",
    "    # ni = contar el número de elementos de dfi\n",
    "    ni = dfi.count()\n",
    "    print(\"label=\",i,\" Elementos \",ni)\n",
    "    # ahora vemos cómo se reparten estos elementos por las predicciones\n",
    "    for j in range(5):\n",
    "        # dfij = filtrar dfi para quedarse los que tengan prediction j\n",
    "        dfij = dfi.filter(dfi.prediction==j)\n",
    "        # nij = número de elementos de dfij\n",
    "        nij = dfij.count()\n",
    "        print(\" Predicción \",j,\" \",nij, \"(\",round(nij*100/ni,2),\"%)\")"
   ]
  },
  {
   "cell_type": "markdown",
   "metadata": {},
   "source": [
    "\n"
   ]
  },
  {
   "cell_type": "markdown",
   "metadata": {},
   "source": [
    "### Pregunta 4 [2 puntos]\n",
    "\n",
    "Parece que lo hemos logrado, pero tenemos que hacer un último esfuezo escribiendo una función *caja* que reciba como parámetros:\n",
    "\n",
    "- El modelo desarrollado\n",
    "- x,y,z,l,t,h\n",
    "\n",
    "y devuelva un valor de 1 a 5 indicando el movimiento más probable.  Para ello, *caja* deberá:\n",
    "\n",
    "- Convertir x,y,z,l,t,h en un dataframe de reales de una sola fila con nombres de columnas \"x\",\"y\",\"z\",\"l\",\"t\",\"h\" ver esta [página](https://sparkbyexamples.com/pyspark/pyspark-create-dataframe-from-list/)\n",
    "- Aplicar el modelo al nuevo dataframe\n",
    "- Extraer el valor *prediction* y convertir la clase predicha en un valor de 1 a 5 según la correspondencia que se ha visto en el apartado anterior (se puede hacer con ifs o como se quiera)"
   ]
  },
  {
   "cell_type": "code",
   "execution_count": 81,
   "metadata": {},
   "outputs": [],
   "source": [
    "def caja(kmodel,  x,y,z,l,t,h ):\n",
    "    columns = [\"x\", \"y\", \"z\", \"l\", \"t\", \"h\"]\n",
    "    datas = [(x,y,z,l,t,h)]\n",
    "    dataframe = spark.createDataFrame(data = datas, schema = columns)\n",
    "    prediction = kmodel.transform(dataframe)\n",
    "    datos = prediction.toPandas()\n",
    "    valor = datos.iloc[0]['prediction']\n",
    "    if valor == 0:\n",
    "        return 2;\n",
    "    elif valor == 1:\n",
    "        return 1;\n",
    "    elif valor == 2:\n",
    "        return 4;\n",
    "    elif valor == 3:\n",
    "        return 3;\n",
    "    elif valor == 4:\n",
    "        return 5;\n",
    "    "
   ]
  },
  {
   "cell_type": "markdown",
   "metadata": {},
   "source": [
    "Para probar:"
   ]
  },
  {
   "cell_type": "code",
   "execution_count": 82,
   "metadata": {},
   "outputs": [
    {
     "name": "stdout",
     "output_type": "stream",
     "text": [
      "Debe salir 4 y sale  4\n",
      "Debe salir 1 y sale  1\n"
     ]
    }
   ],
   "source": [
    "a = caja(kmodel,-0.01,-0.99,-1.11,335.5,23.8,46.0)\n",
    "print(\"Debe salir 4 y sale \",a)\n",
    "\n",
    "b = caja(kmodel,0,0,0,746,23.8,46.0)\n",
    "print(\"Debe salir 1 y sale \",b)"
   ]
  },
  {
   "cell_type": "markdown",
   "metadata": {},
   "source": [
    "### Pregunta 5 (2 puntos)\n",
    "\n",
    "Ahora queremos ver si según estos datos sería posible ahorrarnos algún sensor. Para ello\n",
    "\n",
    "a) [1] Mostrar la correlación entre cada par de columnas de df"
   ]
  },
  {
   "cell_type": "code",
   "execution_count": 114,
   "metadata": {},
   "outputs": [
    {
     "name": "stdout",
     "output_type": "stream",
     "text": [
      "[[ 1.00000000e+00  3.95067651e-01 -4.23181021e-02 -9.59694033e-03\n",
      "  -7.34433196e-02 -2.36616501e-02  5.72412128e-01]\n",
      " [ 3.95067651e-01  1.00000000e+00 -1.60061525e-02  5.88866830e-02\n",
      "   6.80855724e-02 -5.16408147e-04 -3.42152136e-01]\n",
      " [-4.23181021e-02 -1.60061525e-02  1.00000000e+00  7.28639579e-01\n",
      "  -1.11558954e-01 -2.41411325e-03 -2.80599335e-01]\n",
      " [-9.59694033e-03  5.88866830e-02  7.28639579e-01  1.00000000e+00\n",
      "  -1.57979055e-01  7.61051963e-02  7.73346117e-02]\n",
      " [-7.34433196e-02  6.80855724e-02 -1.11558954e-01 -1.57979055e-01\n",
      "   1.00000000e+00  9.22802672e-01 -1.60122998e-01]\n",
      " [-2.36616501e-02 -5.16408147e-04 -2.41411325e-03  7.61051963e-02\n",
      "   9.22802672e-01  1.00000000e+00  7.03889833e-03]\n",
      " [ 5.72412128e-01 -3.42152136e-01 -2.80599335e-01  7.73346117e-02\n",
      "  -1.60122998e-01  7.03889833e-03  1.00000000e+00]]\n",
      "En la matriz de correlación se ha encontrado el maximo 0.9228026724170721 en ('h', 't')\n"
     ]
    }
   ],
   "source": [
    "conti = 0\n",
    "contj = 0\n",
    "maximo = 0\n",
    "index = [0, 0]\n",
    "matrix = np.zeros((7,7))\n",
    "for i in df.columns:\n",
    "    \n",
    "    for j in df.columns:\n",
    "        valor = df.corr(i,j)\n",
    "        matrix[conti, contj] = valor\n",
    "        if valor > maximo and valor != 1.0:\n",
    "            maximo = df.corr(i,j)\n",
    "            index = (i, j)\n",
    "        contj = contj + 1\n",
    "    \n",
    "    conti = conti + 1\n",
    "    contj = 0\n",
    "\n",
    "print(matrix)\n",
    "print(\"En la matriz de correlación se ha encontrado el maximo\", maximo, \"en\", index)"
   ]
  },
  {
   "cell_type": "markdown",
   "metadata": {},
   "source": [
    "b) [1] Para la pareja de columnas que muestre mayor correlación, buscar un modelo de regresión lineal, que permita decidir el valor de una de las dos a partir de la otra.  Dividir el conjunto df al 50% entre train y test y mostrar el R^2 y el RMSE obtenidos. El modelo se hará combinando en un pipeline un vectorassembler y un LinearRegression.\n",
    "\n",
    "\n",
    "Nota: No hace falta escalar"
   ]
  },
  {
   "cell_type": "code",
   "execution_count": 132,
   "metadata": {},
   "outputs": [
    {
     "name": "stdout",
     "output_type": "stream",
     "text": [
      "[('r2', 0.8502289983347421), ('rmse', 3.9877400033720476)]\n"
     ]
    }
   ],
   "source": [
    "from pyspark.ml.regression import LinearRegression\n",
    "from pyspark.ml.evaluation import RegressionEvaluator\n",
    "lr = LinearRegression(maxIter=10, regParam=0.3, elasticNetParam=0.8)\n",
    "\n",
    "datos_aux = df.select('h', 't')\n",
    "\n",
    "datos_aux2 = datos_aux.withColumnRenamed(\"h\", \"label\")\n",
    "\n",
    "vectorcols = ['t']\n",
    "assembler = VectorAssembler(\n",
    "    inputCols=vectorcols,\n",
    "    outputCol='features')\n",
    "\n",
    "splits = datos_aux2.randomSplit([0.5, 0.5])\n",
    "\n",
    "train_data = splits[0]\n",
    "test_data = splits[1]\n",
    "\n",
    "pipeline = Pipeline(stages=[assembler, lr])\n",
    "\n",
    "lrModel = pipeline.fit(train_data)\n",
    "lr_predictions = lrModel.transform(test_data)\n",
    "\n",
    "\n",
    "\n",
    "metrics=[\"r2\", \"rmse\"]\n",
    "evaluators = [(m,RegressionEvaluator(predictionCol=\"prediction\", \\\n",
    "                 labelCol=\"label\",metricName=m)) for m in metrics]\n",
    "\n",
    "errors = [ (name, eval.evaluate(lr_predictions)) for name,eval in evaluators]\n",
    "print(errors)"
   ]
  },
  {
   "cell_type": "code",
   "execution_count": null,
   "metadata": {},
   "outputs": [],
   "source": []
  }
 ],
 "metadata": {
  "kernelspec": {
   "display_name": "Python 3",
   "language": "python",
   "name": "python3"
  },
  "language_info": {
   "codemirror_mode": {
    "name": "ipython",
    "version": 3
   },
   "file_extension": ".py",
   "mimetype": "text/x-python",
   "name": "python",
   "nbconvert_exporter": "python",
   "pygments_lexer": "ipython3",
   "version": "3.8.3"
  }
 },
 "nbformat": 4,
 "nbformat_minor": 4
}
